{
 "metadata": {
  "language_info": {
   "codemirror_mode": {
    "name": "ipython",
    "version": 3
   },
   "file_extension": ".py",
   "mimetype": "text/x-python",
   "name": "python",
   "nbconvert_exporter": "python",
   "pygments_lexer": "ipython3",
   "version": 3
  },
  "orig_nbformat": 2,
  "kernelspec": {
   "name": "python_defaultSpec_1596837005900",
   "display_name": "Python 3.8.3 64-bit ('py38': conda)"
  }
 },
 "nbformat": 4,
 "nbformat_minor": 2,
 "cells": [
  {
   "cell_type": "code",
   "execution_count": 5,
   "metadata": {},
   "outputs": [],
   "source": [
    "# Import the necesary libraries \n",
    "import numpy as np\n",
    "import pandas as pd\n",
    "import matplotlib as mpl\n",
    "import matplotlib.pyplot as plt \n",
    "import seaborn as sn\n",
    "from sklearn import preprocessing, svm\n",
    "from sklearn.model_selection import train_test_split\n",
    "from sklearn.model_selection import cross_validate\n",
    "from sklearn.linear_model import LogisticRegression\n",
    "from sklearn.preprocessing import StandardScaler\n",
    "from sklearn.metrics import confusion_matrix, classification_report\n",
    "%matplotlib inline\n",
    "\n"
   ]
  },
  {
   "cell_type": "code",
   "execution_count": 4,
   "metadata": {},
   "outputs": [],
   "source": [
    "census_data = pd.read_csv(\"https://raw.githubusercontent.com/dphi-official/Datasets/master/Census_Income/Training_set_census.csv\" )\n",
    "census_eval = pd.read_csv('https://raw.githubusercontent.com/dphi-official/Datasets/master/Census_Income/Testing_set_census.csv')"
   ]
  },
  {
   "cell_type": "code",
   "execution_count": 7,
   "metadata": {},
   "outputs": [
    {
     "output_type": "execute_result",
     "data": {
      "text/plain": "Index(['age', 'class_of_worker', 'industry_code', 'occupation_code',\n       'education', 'wage_per_hour', 'enrolled_in_edu_inst_lastwk',\n       'marital_status', 'major_industry_code', 'major_occupation_code',\n       'race', 'hispanic_origin', 'sex', 'member_of_labor_union',\n       'reason_for_unemployment', 'full_parttime_employment_stat',\n       'capital_gains', 'capital_losses', 'dividend_from_Stocks',\n       'tax_filer_status', 'region_of_previous_residence',\n       'state_of_previous_residence', 'd_household_family_stat',\n       'd_household_summary', 'migration_msa', 'migration_reg',\n       'migration_within_reg', 'live_1_year_ago', 'migration_sunbelt',\n       'num_person_Worked_employer', 'family_members_under_18',\n       'country_father', 'country_mother', 'country_self', 'citizenship',\n       'business_or_self_employed', 'fill_questionnaire_veteran_admin',\n       'veterans_benefits', 'weeks_worked_in_year', 'year', 'income_level'],\n      dtype='object')"
     },
     "metadata": {},
     "execution_count": 7
    }
   ],
   "source": [
    "census_data.columns"
   ]
  },
  {
   "cell_type": "code",
   "execution_count": 8,
   "metadata": {
    "tags": []
   },
   "outputs": [
    {
     "output_type": "stream",
     "name": "stdout",
     "text": "<class 'pandas.core.frame.DataFrame'>\nRangeIndex: 200000 entries, 0 to 199999\nData columns (total 41 columns):\n #   Column                            Non-Null Count   Dtype \n---  ------                            --------------   ----- \n 0   age                               200000 non-null  int64 \n 1   class_of_worker                   200000 non-null  object\n 2   industry_code                     200000 non-null  int64 \n 3   occupation_code                   200000 non-null  int64 \n 4   education                         200000 non-null  object\n 5   wage_per_hour                     200000 non-null  int64 \n 6   enrolled_in_edu_inst_lastwk       200000 non-null  object\n 7   marital_status                    200000 non-null  object\n 8   major_industry_code               200000 non-null  object\n 9   major_occupation_code             200000 non-null  object\n 10  race                              200000 non-null  object\n 11  hispanic_origin                   199408 non-null  object\n 12  sex                               200000 non-null  object\n 13  member_of_labor_union             200000 non-null  object\n 14  reason_for_unemployment           200000 non-null  object\n 15  full_parttime_employment_stat     200000 non-null  object\n 16  capital_gains                     200000 non-null  int64 \n 17  capital_losses                    200000 non-null  int64 \n 18  dividend_from_Stocks              200000 non-null  int64 \n 19  tax_filer_status                  200000 non-null  object\n 20  region_of_previous_residence      200000 non-null  object\n 21  state_of_previous_residence       199523 non-null  object\n 22  d_household_family_stat           200000 non-null  object\n 23  d_household_summary               200000 non-null  object\n 24  migration_msa                     133327 non-null  object\n 25  migration_reg                     133327 non-null  object\n 26  migration_within_reg              133327 non-null  object\n 27  live_1_year_ago                   200000 non-null  object\n 28  migration_sunbelt                 133327 non-null  object\n 29  num_person_Worked_employer        200000 non-null  int64 \n 30  family_members_under_18           200000 non-null  object\n 31  country_father                    195478 non-null  object\n 32  country_mother                    195864 non-null  object\n 33  country_self                      197688 non-null  object\n 34  citizenship                       200000 non-null  object\n 35  business_or_self_employed         200000 non-null  int64 \n 36  fill_questionnaire_veteran_admin  200000 non-null  object\n 37  veterans_benefits                 200000 non-null  int64 \n 38  weeks_worked_in_year              200000 non-null  int64 \n 39  year                              200000 non-null  int64 \n 40  income_level                      200000 non-null  int64 \ndtypes: int64(13), object(28)\nmemory usage: 62.6+ MB\n"
    }
   ],
   "source": [
    "census_data.info()"
   ]
  }
 ]
}