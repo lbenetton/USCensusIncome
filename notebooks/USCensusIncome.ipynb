{
  "nbformat": 4,
  "nbformat_minor": 0,
  "metadata": {
    "language_info": {
      "codemirror_mode": {
        "name": "ipython",
        "version": 3
      },
      "file_extension": ".py",
      "mimetype": "text/x-python",
      "name": "python",
      "nbconvert_exporter": "python",
      "pygments_lexer": "ipython3",
      "version": 3
    },
    "orig_nbformat": 2,
    "kernelspec": {
      "name": "python_defaultSpec_1596999834634",
      "display_name": "Python 3.8.3 64-bit ('py38': conda)"
    },
    "colab": {
      "name": "USCensusIncome.ipynb",
      "provenance": []
    }
  },
  "cells": [
    {
      "cell_type": "code",
      "metadata": {
        "id": "9_C0G3kltAP0",
        "colab_type": "code",
        "colab": {}
      },
      "source": [
        "import warnings\n",
        "warnings.simplefilter(\"ignore\", UserWarning)\n",
        "\n",
        "# Import the necesary libraries \n",
        "import numpy as np\n",
        "import pandas as pd\n",
        "\n",
        "from scipy import stats\n",
        "import matplotlib.pyplot as plt\n",
        "import seaborn as sns\n",
        "sns.set_style('darkgrid')\n",
        "import statsmodels.api as sm\n",
        "import statsmodels.formula.api as smf\n",
        "import pylab\n",
        "\n",
        "from sklearn import preprocessing, svm\n",
        "from sklearn.model_selection import train_test_split\n",
        "from sklearn.model_selection import cross_validate\n",
        "from sklearn.linear_model import LogisticRegression\n",
        "from sklearn.preprocessing import StandardScaler\n",
        "from sklearn.metrics import confusion_matrix, classification_report, f1_score\n",
        "\n",
        "%matplotlib inline\n",
        "plt.style.use('ggplot')\n",
        "plt.rcParams['figure.figsize'] = (18.0, 8.0)"
      ],
      "execution_count": 15,
      "outputs": []
    },
    {
      "cell_type": "code",
      "metadata": {
        "id": "bi0e4vHutAP3",
        "colab_type": "code",
        "colab": {}
      },
      "source": [
        "census_data = pd.read_csv(\"https://raw.githubusercontent.com/dphi-official/Datasets/master/Census_Income/Training_set_census.csv\" )\n",
        "#census_eval = pd.read_csv('https://raw.githubusercontent.com/dphi-official/Datasets/master/Census_Income/Testing_set_census.csv')"
      ],
      "execution_count": 16,
      "outputs": []
    },
    {
      "cell_type": "code",
      "metadata": {
        "id": "U8pB6R8ztAP5",
        "colab_type": "code",
        "colab": {}
      },
      "source": [
        "census_eval = pd.read_csv('https://raw.githubusercontent.com/dphi-official/Datasets/master/Census_Income/Testing_set_census.csv')"
      ],
      "execution_count": 17,
      "outputs": []
    },
    {
      "cell_type": "code",
      "metadata": {
        "id": "HmDzNTtVtAP6",
        "colab_type": "code",
        "colab": {}
      },
      "source": [
        "# Data Cleaning\n",
        "\n",
        "# Training Set\n",
        "census_data['marital_status'] = census_data['marital_status'].str.lstrip()\n",
        "census_data['education'] = census_data['education'].str.lstrip()\n",
        "census_data['major_industry_code'] = census_data['major_industry_code'].str.lstrip()\n",
        "census_data['major_occupation_code'] = census_data['major_occupation_code'].str.lstrip()\n",
        "census_data['race'] = census_data['race'].str.lstrip()\n",
        "census_data['hispanic_origin'] = census_data['hispanic_origin'].str.lstrip()\n",
        "census_data['sex'] = census_data['sex'].str.lstrip()\n",
        "census_data['full_parttime_employment_stat'] = census_data['full_parttime_employment_stat'].str.lstrip()\n",
        "census_data['country_self'] = census_data['country_self'].str.lstrip()\n",
        "\n",
        "# Eval Set\n",
        "census_eval['marital_status'] = census_eval['marital_status'].str.lstrip()\n",
        "census_eval['education'] = census_eval['education'].str.lstrip()\n",
        "census_eval['major_industry_code'] = census_eval['major_industry_code'].str.lstrip()\n",
        "census_eval['major_occupation_code'] = census_eval['major_occupation_code'].str.lstrip()\n",
        "census_eval['race'] = census_eval['race'].str.lstrip()\n",
        "census_eval['hispanic_origin'] = census_eval['hispanic_origin'].str.lstrip()\n",
        "census_eval['sex'] = census_eval['sex'].str.lstrip()\n",
        "census_eval['full_parttime_employment_stat'] = census_eval['full_parttime_employment_stat'].str.lstrip()\n",
        "census_eval['country_self'] = census_eval['country_self'].str.lstrip()\n"
      ],
      "execution_count": 18,
      "outputs": []
    },
    {
      "cell_type": "code",
      "metadata": {
        "tags": [],
        "id": "pynmaE-htAP9",
        "colab_type": "code",
        "colab": {}
      },
      "source": [
        "# Set the right features\n",
        "train_columns = ['age', 'education', 'wage_per_hour', \n",
        "       'marital_status', 'major_industry_code', 'major_occupation_code',\n",
        "       'race', 'hispanic_origin', 'sex', 'full_parttime_employment_stat',\n",
        "       'capital_gains', 'capital_losses',  'country_self',\n",
        "       'weeks_worked_in_year']\n",
        "\n",
        "# Set the Training Sets\n",
        "X_train_raw = census_data[train_columns]\n",
        "y_train_raw = census_data['income_level']\n",
        "\n",
        "X_eval_raw = census_eval[train_columns]\n"
      ],
      "execution_count": 19,
      "outputs": []
    },
    {
      "cell_type": "code",
      "metadata": {
        "id": "LvuxTHU_tAP_",
        "colab_type": "code",
        "colab": {}
      },
      "source": [
        "\n",
        "# Data preparation\n",
        "X_train_raw = pd.concat([X_train_raw, pd.get_dummies(X_train_raw['education'],prefix='education',prefix_sep='_')], axis=1)\n",
        "X_train_raw = pd.concat([X_train_raw, pd.get_dummies(X_train_raw['marital_status'],prefix='marital_status',prefix_sep='_')], axis=1)\n",
        "X_train_raw = pd.concat([X_train_raw, pd.get_dummies(X_train_raw['major_industry_code'],prefix='major_industry_code',prefix_sep='_')], axis=1)\n",
        "X_train_raw = pd.concat([X_train_raw, pd.get_dummies(X_train_raw['major_occupation_code'],prefix='major_occupation_code',prefix_sep='_')], axis=1)\n",
        "X_train_raw = pd.concat([X_train_raw, pd.get_dummies(X_train_raw['race'],prefix='race',prefix_sep='_')], axis=1)\n",
        "X_train_raw = pd.concat([X_train_raw, pd.get_dummies(X_train_raw['hispanic_origin'],prefix='hispanic_origin',prefix_sep='_')], axis=1)\n",
        "X_train_raw = pd.concat([X_train_raw, pd.get_dummies(X_train_raw['sex'],prefix='sex',prefix_sep='_')], axis=1)\n",
        "X_train_raw = pd.concat([X_train_raw, pd.get_dummies(X_train_raw['full_parttime_employment_stat'],prefix='full_parttime_employment_stat',prefix_sep='_')], axis=1)\n",
        "X_train_raw = pd.concat([X_train_raw, pd.get_dummies(X_train_raw['country_self'],prefix='country_self',prefix_sep='_')], axis=1)\n",
        "\n",
        "# Data preparation Eval\n",
        "X_eval_raw = pd.concat([X_eval_raw, pd.get_dummies(X_eval_raw['education'],prefix='education',prefix_sep='_')], axis=1)\n",
        "X_eval_raw = pd.concat([X_eval_raw, pd.get_dummies(X_eval_raw['marital_status'],prefix='marital_status',prefix_sep='_')], axis=1)\n",
        "X_eval_raw = pd.concat([X_eval_raw, pd.get_dummies(X_eval_raw['major_industry_code'],prefix='major_industry_code',prefix_sep='_')], axis=1)\n",
        "X_eval_raw = pd.concat([X_eval_raw, pd.get_dummies(X_eval_raw['major_occupation_code'],prefix='major_occupation_code',prefix_sep='_')], axis=1)\n",
        "X_eval_raw = pd.concat([X_eval_raw, pd.get_dummies(X_eval_raw['race'],prefix='race',prefix_sep='_')], axis=1)\n",
        "X_eval_raw = pd.concat([X_eval_raw, pd.get_dummies(X_eval_raw['hispanic_origin'],prefix='hispanic_origin',prefix_sep='_')], axis=1)\n",
        "X_eval_raw = pd.concat([X_eval_raw, pd.get_dummies(X_eval_raw['sex'],prefix='sex',prefix_sep='_')], axis=1)\n",
        "X_eval_raw = pd.concat([X_eval_raw, pd.get_dummies(X_eval_raw['full_parttime_employment_stat'],prefix='full_parttime_employment_stat',prefix_sep='_')], axis=1)\n",
        "X_eval_raw = pd.concat([X_eval_raw, pd.get_dummies(X_eval_raw['country_self'],prefix='country_self',prefix_sep='_')], axis=1)\n",
        "\n",
        "X_train_raw.drop(['education','marital_status', 'major_industry_code', 'major_occupation_code',\n",
        "                'race', 'hispanic_origin', 'sex', 'full_parttime_employment_stat','country_self'],axis=1,inplace=True)\n",
        "X_eval_raw.drop(['education','marital_status', 'major_industry_code', 'major_occupation_code',\n",
        "                'race', 'hispanic_origin', 'sex', 'full_parttime_employment_stat','country_self'],axis=1,inplace=True)\n",
        "                "
      ],
      "execution_count": 20,
      "outputs": []
    },
    {
      "cell_type": "code",
      "metadata": {
        "id": "J5CEfJw3tAQB",
        "colab_type": "code",
        "colab": {
          "base_uri": "https://localhost:8080/",
          "height": 304
        },
        "outputId": "2e7ff46d-4915-4951-ceaf-eba6956b3073"
      },
      "source": [
        "X_train_raw.head()"
      ],
      "execution_count": 21,
      "outputs": [
        {
          "output_type": "execute_result",
          "data": {
            "text/html": [
              "<div>\n",
              "<style scoped>\n",
              "    .dataframe tbody tr th:only-of-type {\n",
              "        vertical-align: middle;\n",
              "    }\n",
              "\n",
              "    .dataframe tbody tr th {\n",
              "        vertical-align: top;\n",
              "    }\n",
              "\n",
              "    .dataframe thead th {\n",
              "        text-align: right;\n",
              "    }\n",
              "</style>\n",
              "<table border=\"1\" class=\"dataframe\">\n",
              "  <thead>\n",
              "    <tr style=\"text-align: right;\">\n",
              "      <th></th>\n",
              "      <th>age</th>\n",
              "      <th>wage_per_hour</th>\n",
              "      <th>capital_gains</th>\n",
              "      <th>capital_losses</th>\n",
              "      <th>weeks_worked_in_year</th>\n",
              "      <th>education_10th grade</th>\n",
              "      <th>education_11th grade</th>\n",
              "      <th>education_12th grade no diploma</th>\n",
              "      <th>education_1st 2nd 3rd or 4th grade</th>\n",
              "      <th>education_5th or 6th grade</th>\n",
              "      <th>education_7th and 8th grade</th>\n",
              "      <th>education_9th grade</th>\n",
              "      <th>education_Associates degree-academic program</th>\n",
              "      <th>education_Associates degree-occup /vocational</th>\n",
              "      <th>education_Bachelors degree(BA AB BS)</th>\n",
              "      <th>education_Children</th>\n",
              "      <th>education_Doctorate degree(PhD EdD)</th>\n",
              "      <th>education_High school graduate</th>\n",
              "      <th>education_Less than 1st grade</th>\n",
              "      <th>education_Masters degree(MA MS MEng MEd MSW MBA)</th>\n",
              "      <th>education_Prof school degree (MD DDS DVM LLB JD)</th>\n",
              "      <th>education_Some college but no degree</th>\n",
              "      <th>marital_status_Divorced</th>\n",
              "      <th>marital_status_Married-A F spouse present</th>\n",
              "      <th>marital_status_Married-civilian spouse present</th>\n",
              "      <th>marital_status_Married-spouse absent</th>\n",
              "      <th>marital_status_Never married</th>\n",
              "      <th>marital_status_Separated</th>\n",
              "      <th>marital_status_Widowed</th>\n",
              "      <th>major_industry_code_Agriculture</th>\n",
              "      <th>major_industry_code_Armed Forces</th>\n",
              "      <th>major_industry_code_Business and repair services</th>\n",
              "      <th>major_industry_code_Communications</th>\n",
              "      <th>major_industry_code_Construction</th>\n",
              "      <th>major_industry_code_Education</th>\n",
              "      <th>major_industry_code_Entertainment</th>\n",
              "      <th>major_industry_code_Finance insurance and real estate</th>\n",
              "      <th>major_industry_code_Forestry and fisheries</th>\n",
              "      <th>major_industry_code_Hospital services</th>\n",
              "      <th>major_industry_code_Manufacturing-durable goods</th>\n",
              "      <th>...</th>\n",
              "      <th>country_self_China</th>\n",
              "      <th>country_self_Columbia</th>\n",
              "      <th>country_self_Cuba</th>\n",
              "      <th>country_self_Dominican-Republic</th>\n",
              "      <th>country_self_Ecuador</th>\n",
              "      <th>country_self_El-Salvador</th>\n",
              "      <th>country_self_England</th>\n",
              "      <th>country_self_France</th>\n",
              "      <th>country_self_Germany</th>\n",
              "      <th>country_self_Greece</th>\n",
              "      <th>country_self_Guatemala</th>\n",
              "      <th>country_self_Haiti</th>\n",
              "      <th>country_self_Holand-Netherlands</th>\n",
              "      <th>country_self_Honduras</th>\n",
              "      <th>country_self_Hong Kong</th>\n",
              "      <th>country_self_Hungary</th>\n",
              "      <th>country_self_India</th>\n",
              "      <th>country_self_Iran</th>\n",
              "      <th>country_self_Ireland</th>\n",
              "      <th>country_self_Italy</th>\n",
              "      <th>country_self_Jamaica</th>\n",
              "      <th>country_self_Japan</th>\n",
              "      <th>country_self_Laos</th>\n",
              "      <th>country_self_Mexico</th>\n",
              "      <th>country_self_Nicaragua</th>\n",
              "      <th>country_self_Outlying-U S (Guam USVI etc)</th>\n",
              "      <th>country_self_Panama</th>\n",
              "      <th>country_self_Peru</th>\n",
              "      <th>country_self_Philippines</th>\n",
              "      <th>country_self_Poland</th>\n",
              "      <th>country_self_Portugal</th>\n",
              "      <th>country_self_Puerto-Rico</th>\n",
              "      <th>country_self_Scotland</th>\n",
              "      <th>country_self_South Korea</th>\n",
              "      <th>country_self_Taiwan</th>\n",
              "      <th>country_self_Thailand</th>\n",
              "      <th>country_self_Trinadad&amp;Tobago</th>\n",
              "      <th>country_self_United-States</th>\n",
              "      <th>country_self_Vietnam</th>\n",
              "      <th>country_self_Yugoslavia</th>\n",
              "    </tr>\n",
              "  </thead>\n",
              "  <tbody>\n",
              "    <tr>\n",
              "      <th>0</th>\n",
              "      <td>23</td>\n",
              "      <td>0</td>\n",
              "      <td>0</td>\n",
              "      <td>0</td>\n",
              "      <td>30</td>\n",
              "      <td>0</td>\n",
              "      <td>0</td>\n",
              "      <td>0</td>\n",
              "      <td>0</td>\n",
              "      <td>0</td>\n",
              "      <td>0</td>\n",
              "      <td>0</td>\n",
              "      <td>0</td>\n",
              "      <td>0</td>\n",
              "      <td>0</td>\n",
              "      <td>0</td>\n",
              "      <td>0</td>\n",
              "      <td>0</td>\n",
              "      <td>0</td>\n",
              "      <td>0</td>\n",
              "      <td>0</td>\n",
              "      <td>1</td>\n",
              "      <td>0</td>\n",
              "      <td>0</td>\n",
              "      <td>0</td>\n",
              "      <td>0</td>\n",
              "      <td>1</td>\n",
              "      <td>0</td>\n",
              "      <td>0</td>\n",
              "      <td>0</td>\n",
              "      <td>0</td>\n",
              "      <td>0</td>\n",
              "      <td>0</td>\n",
              "      <td>0</td>\n",
              "      <td>1</td>\n",
              "      <td>0</td>\n",
              "      <td>0</td>\n",
              "      <td>0</td>\n",
              "      <td>0</td>\n",
              "      <td>0</td>\n",
              "      <td>...</td>\n",
              "      <td>0</td>\n",
              "      <td>0</td>\n",
              "      <td>0</td>\n",
              "      <td>0</td>\n",
              "      <td>0</td>\n",
              "      <td>0</td>\n",
              "      <td>0</td>\n",
              "      <td>0</td>\n",
              "      <td>0</td>\n",
              "      <td>0</td>\n",
              "      <td>0</td>\n",
              "      <td>0</td>\n",
              "      <td>0</td>\n",
              "      <td>0</td>\n",
              "      <td>0</td>\n",
              "      <td>0</td>\n",
              "      <td>0</td>\n",
              "      <td>0</td>\n",
              "      <td>0</td>\n",
              "      <td>0</td>\n",
              "      <td>0</td>\n",
              "      <td>0</td>\n",
              "      <td>0</td>\n",
              "      <td>0</td>\n",
              "      <td>0</td>\n",
              "      <td>0</td>\n",
              "      <td>0</td>\n",
              "      <td>0</td>\n",
              "      <td>0</td>\n",
              "      <td>0</td>\n",
              "      <td>0</td>\n",
              "      <td>0</td>\n",
              "      <td>0</td>\n",
              "      <td>0</td>\n",
              "      <td>0</td>\n",
              "      <td>0</td>\n",
              "      <td>0</td>\n",
              "      <td>1</td>\n",
              "      <td>0</td>\n",
              "      <td>0</td>\n",
              "    </tr>\n",
              "    <tr>\n",
              "      <th>1</th>\n",
              "      <td>24</td>\n",
              "      <td>0</td>\n",
              "      <td>0</td>\n",
              "      <td>0</td>\n",
              "      <td>26</td>\n",
              "      <td>0</td>\n",
              "      <td>0</td>\n",
              "      <td>0</td>\n",
              "      <td>0</td>\n",
              "      <td>0</td>\n",
              "      <td>0</td>\n",
              "      <td>0</td>\n",
              "      <td>0</td>\n",
              "      <td>0</td>\n",
              "      <td>1</td>\n",
              "      <td>0</td>\n",
              "      <td>0</td>\n",
              "      <td>0</td>\n",
              "      <td>0</td>\n",
              "      <td>0</td>\n",
              "      <td>0</td>\n",
              "      <td>0</td>\n",
              "      <td>0</td>\n",
              "      <td>0</td>\n",
              "      <td>0</td>\n",
              "      <td>0</td>\n",
              "      <td>1</td>\n",
              "      <td>0</td>\n",
              "      <td>0</td>\n",
              "      <td>0</td>\n",
              "      <td>0</td>\n",
              "      <td>0</td>\n",
              "      <td>0</td>\n",
              "      <td>0</td>\n",
              "      <td>0</td>\n",
              "      <td>0</td>\n",
              "      <td>1</td>\n",
              "      <td>0</td>\n",
              "      <td>0</td>\n",
              "      <td>0</td>\n",
              "      <td>...</td>\n",
              "      <td>0</td>\n",
              "      <td>0</td>\n",
              "      <td>0</td>\n",
              "      <td>0</td>\n",
              "      <td>0</td>\n",
              "      <td>0</td>\n",
              "      <td>0</td>\n",
              "      <td>0</td>\n",
              "      <td>0</td>\n",
              "      <td>0</td>\n",
              "      <td>0</td>\n",
              "      <td>0</td>\n",
              "      <td>0</td>\n",
              "      <td>0</td>\n",
              "      <td>0</td>\n",
              "      <td>0</td>\n",
              "      <td>0</td>\n",
              "      <td>0</td>\n",
              "      <td>0</td>\n",
              "      <td>0</td>\n",
              "      <td>0</td>\n",
              "      <td>0</td>\n",
              "      <td>0</td>\n",
              "      <td>0</td>\n",
              "      <td>0</td>\n",
              "      <td>0</td>\n",
              "      <td>0</td>\n",
              "      <td>0</td>\n",
              "      <td>0</td>\n",
              "      <td>0</td>\n",
              "      <td>0</td>\n",
              "      <td>0</td>\n",
              "      <td>0</td>\n",
              "      <td>0</td>\n",
              "      <td>0</td>\n",
              "      <td>0</td>\n",
              "      <td>0</td>\n",
              "      <td>1</td>\n",
              "      <td>0</td>\n",
              "      <td>0</td>\n",
              "    </tr>\n",
              "    <tr>\n",
              "      <th>2</th>\n",
              "      <td>38</td>\n",
              "      <td>0</td>\n",
              "      <td>0</td>\n",
              "      <td>0</td>\n",
              "      <td>52</td>\n",
              "      <td>0</td>\n",
              "      <td>0</td>\n",
              "      <td>0</td>\n",
              "      <td>0</td>\n",
              "      <td>0</td>\n",
              "      <td>0</td>\n",
              "      <td>0</td>\n",
              "      <td>0</td>\n",
              "      <td>0</td>\n",
              "      <td>0</td>\n",
              "      <td>0</td>\n",
              "      <td>0</td>\n",
              "      <td>0</td>\n",
              "      <td>0</td>\n",
              "      <td>1</td>\n",
              "      <td>0</td>\n",
              "      <td>0</td>\n",
              "      <td>0</td>\n",
              "      <td>0</td>\n",
              "      <td>1</td>\n",
              "      <td>0</td>\n",
              "      <td>0</td>\n",
              "      <td>0</td>\n",
              "      <td>0</td>\n",
              "      <td>0</td>\n",
              "      <td>0</td>\n",
              "      <td>0</td>\n",
              "      <td>0</td>\n",
              "      <td>0</td>\n",
              "      <td>0</td>\n",
              "      <td>0</td>\n",
              "      <td>1</td>\n",
              "      <td>0</td>\n",
              "      <td>0</td>\n",
              "      <td>0</td>\n",
              "      <td>...</td>\n",
              "      <td>0</td>\n",
              "      <td>0</td>\n",
              "      <td>0</td>\n",
              "      <td>0</td>\n",
              "      <td>0</td>\n",
              "      <td>0</td>\n",
              "      <td>0</td>\n",
              "      <td>0</td>\n",
              "      <td>0</td>\n",
              "      <td>0</td>\n",
              "      <td>0</td>\n",
              "      <td>0</td>\n",
              "      <td>0</td>\n",
              "      <td>0</td>\n",
              "      <td>0</td>\n",
              "      <td>0</td>\n",
              "      <td>0</td>\n",
              "      <td>0</td>\n",
              "      <td>0</td>\n",
              "      <td>0</td>\n",
              "      <td>0</td>\n",
              "      <td>0</td>\n",
              "      <td>0</td>\n",
              "      <td>0</td>\n",
              "      <td>0</td>\n",
              "      <td>0</td>\n",
              "      <td>0</td>\n",
              "      <td>0</td>\n",
              "      <td>0</td>\n",
              "      <td>0</td>\n",
              "      <td>0</td>\n",
              "      <td>0</td>\n",
              "      <td>0</td>\n",
              "      <td>0</td>\n",
              "      <td>0</td>\n",
              "      <td>0</td>\n",
              "      <td>0</td>\n",
              "      <td>1</td>\n",
              "      <td>0</td>\n",
              "      <td>0</td>\n",
              "    </tr>\n",
              "    <tr>\n",
              "      <th>3</th>\n",
              "      <td>33</td>\n",
              "      <td>0</td>\n",
              "      <td>0</td>\n",
              "      <td>0</td>\n",
              "      <td>0</td>\n",
              "      <td>0</td>\n",
              "      <td>0</td>\n",
              "      <td>0</td>\n",
              "      <td>0</td>\n",
              "      <td>0</td>\n",
              "      <td>0</td>\n",
              "      <td>0</td>\n",
              "      <td>0</td>\n",
              "      <td>0</td>\n",
              "      <td>0</td>\n",
              "      <td>0</td>\n",
              "      <td>0</td>\n",
              "      <td>1</td>\n",
              "      <td>0</td>\n",
              "      <td>0</td>\n",
              "      <td>0</td>\n",
              "      <td>0</td>\n",
              "      <td>0</td>\n",
              "      <td>0</td>\n",
              "      <td>1</td>\n",
              "      <td>0</td>\n",
              "      <td>0</td>\n",
              "      <td>0</td>\n",
              "      <td>0</td>\n",
              "      <td>0</td>\n",
              "      <td>0</td>\n",
              "      <td>0</td>\n",
              "      <td>0</td>\n",
              "      <td>0</td>\n",
              "      <td>0</td>\n",
              "      <td>0</td>\n",
              "      <td>0</td>\n",
              "      <td>0</td>\n",
              "      <td>0</td>\n",
              "      <td>0</td>\n",
              "      <td>...</td>\n",
              "      <td>0</td>\n",
              "      <td>0</td>\n",
              "      <td>0</td>\n",
              "      <td>0</td>\n",
              "      <td>0</td>\n",
              "      <td>0</td>\n",
              "      <td>0</td>\n",
              "      <td>0</td>\n",
              "      <td>0</td>\n",
              "      <td>0</td>\n",
              "      <td>0</td>\n",
              "      <td>0</td>\n",
              "      <td>0</td>\n",
              "      <td>0</td>\n",
              "      <td>0</td>\n",
              "      <td>0</td>\n",
              "      <td>0</td>\n",
              "      <td>0</td>\n",
              "      <td>0</td>\n",
              "      <td>0</td>\n",
              "      <td>0</td>\n",
              "      <td>0</td>\n",
              "      <td>0</td>\n",
              "      <td>0</td>\n",
              "      <td>0</td>\n",
              "      <td>0</td>\n",
              "      <td>0</td>\n",
              "      <td>0</td>\n",
              "      <td>0</td>\n",
              "      <td>0</td>\n",
              "      <td>0</td>\n",
              "      <td>0</td>\n",
              "      <td>0</td>\n",
              "      <td>0</td>\n",
              "      <td>0</td>\n",
              "      <td>0</td>\n",
              "      <td>0</td>\n",
              "      <td>1</td>\n",
              "      <td>0</td>\n",
              "      <td>0</td>\n",
              "    </tr>\n",
              "    <tr>\n",
              "      <th>4</th>\n",
              "      <td>13</td>\n",
              "      <td>0</td>\n",
              "      <td>0</td>\n",
              "      <td>0</td>\n",
              "      <td>0</td>\n",
              "      <td>0</td>\n",
              "      <td>0</td>\n",
              "      <td>0</td>\n",
              "      <td>0</td>\n",
              "      <td>0</td>\n",
              "      <td>0</td>\n",
              "      <td>0</td>\n",
              "      <td>0</td>\n",
              "      <td>0</td>\n",
              "      <td>0</td>\n",
              "      <td>1</td>\n",
              "      <td>0</td>\n",
              "      <td>0</td>\n",
              "      <td>0</td>\n",
              "      <td>0</td>\n",
              "      <td>0</td>\n",
              "      <td>0</td>\n",
              "      <td>0</td>\n",
              "      <td>0</td>\n",
              "      <td>0</td>\n",
              "      <td>0</td>\n",
              "      <td>1</td>\n",
              "      <td>0</td>\n",
              "      <td>0</td>\n",
              "      <td>0</td>\n",
              "      <td>0</td>\n",
              "      <td>0</td>\n",
              "      <td>0</td>\n",
              "      <td>0</td>\n",
              "      <td>0</td>\n",
              "      <td>0</td>\n",
              "      <td>0</td>\n",
              "      <td>0</td>\n",
              "      <td>0</td>\n",
              "      <td>0</td>\n",
              "      <td>...</td>\n",
              "      <td>0</td>\n",
              "      <td>0</td>\n",
              "      <td>0</td>\n",
              "      <td>0</td>\n",
              "      <td>0</td>\n",
              "      <td>0</td>\n",
              "      <td>0</td>\n",
              "      <td>0</td>\n",
              "      <td>0</td>\n",
              "      <td>0</td>\n",
              "      <td>0</td>\n",
              "      <td>0</td>\n",
              "      <td>0</td>\n",
              "      <td>0</td>\n",
              "      <td>0</td>\n",
              "      <td>0</td>\n",
              "      <td>0</td>\n",
              "      <td>0</td>\n",
              "      <td>0</td>\n",
              "      <td>0</td>\n",
              "      <td>0</td>\n",
              "      <td>0</td>\n",
              "      <td>0</td>\n",
              "      <td>0</td>\n",
              "      <td>0</td>\n",
              "      <td>0</td>\n",
              "      <td>0</td>\n",
              "      <td>0</td>\n",
              "      <td>0</td>\n",
              "      <td>0</td>\n",
              "      <td>0</td>\n",
              "      <td>0</td>\n",
              "      <td>0</td>\n",
              "      <td>0</td>\n",
              "      <td>0</td>\n",
              "      <td>0</td>\n",
              "      <td>0</td>\n",
              "      <td>1</td>\n",
              "      <td>0</td>\n",
              "      <td>0</td>\n",
              "    </tr>\n",
              "  </tbody>\n",
              "</table>\n",
              "<p>5 rows × 137 columns</p>\n",
              "</div>"
            ],
            "text/plain": [
              "   age  wage_per_hour  ...  country_self_Vietnam  country_self_Yugoslavia\n",
              "0   23              0  ...                     0                        0\n",
              "1   24              0  ...                     0                        0\n",
              "2   38              0  ...                     0                        0\n",
              "3   33              0  ...                     0                        0\n",
              "4   13              0  ...                     0                        0\n",
              "\n",
              "[5 rows x 137 columns]"
            ]
          },
          "metadata": {
            "tags": []
          },
          "execution_count": 21
        }
      ]
    },
    {
      "cell_type": "code",
      "metadata": {
        "id": "Ti6JCto7tAQD",
        "colab_type": "code",
        "colab": {
          "base_uri": "https://localhost:8080/",
          "height": 546
        },
        "outputId": "16481a05-ec79-444d-af22-5f6284429f02"
      },
      "source": [
        "## histogram plot by Age\n",
        "\n",
        "sns.distplot(X_train_raw['age'],fit=stats.norm, kde=False)\n",
        "sns.set(color_codes=True)\n",
        "plt.xticks(rotation=90)\n",
        "plt.title(\"Histogram by Age Training Set\")"
      ],
      "execution_count": 22,
      "outputs": [
        {
          "output_type": "execute_result",
          "data": {
            "text/plain": [
              "Text(0.5, 1.0, 'Histogram by Age Training Set')"
            ]
          },
          "metadata": {
            "tags": []
          },
          "execution_count": 22
        },
        {
          "output_type": "display_data",
          "data": {
            "image/png": "[encoded data removed]",
            "text/plain": [
              "<Figure size 1296x576 with 1 Axes>"
            ]
          },
          "metadata": {
            "tags": []
          }
        }
      ]
    },
    {
      "cell_type": "code",
      "metadata": {
        "tags": [],
        "id": "p-Rj1WMktAQF",
        "colab_type": "code",
        "colab": {
          "base_uri": "https://localhost:8080/",
          "height": 51
        },
        "outputId": "4409b21b-0926-4387-c477-0591645dc9d6"
      },
      "source": [
        "X_train, X_test, y_train, y_test = train_test_split(X_train_raw, y_train_raw, test_size = 0.25, random_state = 0)\n",
        "print('Train Dataset length: {0}'.format(len(X_train)))\n",
        "print('Test Dataset length: {0}'.format(len(X_test)))"
      ],
      "execution_count": 23,
      "outputs": [
        {
          "output_type": "stream",
          "text": [
            "Train Dataset length: 150000\n",
            "Test Dataset length: 50000\n"
          ],
          "name": "stdout"
        }
      ]
    },
    {
      "cell_type": "code",
      "metadata": {
        "tags": [],
        "id": "u6yt5DiKtAQH",
        "colab_type": "code",
        "colab": {}
      },
      "source": [
        "# Prepare the data to execute the Model\n",
        "\n",
        "# Data scaler\n",
        "sc_X = StandardScaler()\n",
        "X_train = sc_X.fit_transform(X_train)\n",
        "X_test = sc_X.transform(X_test)\n",
        "\n",
        "X_eval = sc_X.fit_transform(X_eval_raw)"
      ],
      "execution_count": 24,
      "outputs": []
    },
    {
      "cell_type": "code",
      "metadata": {
        "id": "Y7zRZeNVtAQI",
        "colab_type": "code",
        "colab": {
          "base_uri": "https://localhost:8080/",
          "height": 102
        },
        "outputId": "d5bbd0e7-facc-43fb-ef85-bb19026f7478"
      },
      "source": [
        "### Logistic Regression Model ###\n",
        "classifier = LogisticRegression(random_state = 0)\n",
        "classifier.fit(X_train, y_train)"
      ],
      "execution_count": 25,
      "outputs": [
        {
          "output_type": "execute_result",
          "data": {
            "text/plain": [
              "LogisticRegression(C=1.0, class_weight=None, dual=False, fit_intercept=True,\n",
              "                   intercept_scaling=1, l1_ratio=None, max_iter=100,\n",
              "                   multi_class='auto', n_jobs=None, penalty='l2',\n",
              "                   random_state=0, solver='lbfgs', tol=0.0001, verbose=0,\n",
              "                   warm_start=False)"
            ]
          },
          "metadata": {
            "tags": []
          },
          "execution_count": 25
        }
      ]
    },
    {
      "cell_type": "code",
      "metadata": {
        "id": "Mwcd740VtAQK",
        "colab_type": "code",
        "colab": {}
      },
      "source": [
        "y_pred_LR  = classifier.predict(X_test)"
      ],
      "execution_count": 26,
      "outputs": []
    },
    {
      "cell_type": "code",
      "metadata": {
        "tags": [],
        "id": "E3mh00FqtAQM",
        "colab_type": "code",
        "colab": {
          "base_uri": "https://localhost:8080/",
          "height": 34
        },
        "outputId": "f60e3b0d-5424-4980-8e12-363a7e59428a"
      },
      "source": [
        "print('Train Accuracy: {0}'.format(classifier.score(X_train,y_train)))"
      ],
      "execution_count": 27,
      "outputs": [
        {
          "output_type": "stream",
          "text": [
            "Train Accuracy: 0.9431466666666667\n"
          ],
          "name": "stdout"
        }
      ]
    },
    {
      "cell_type": "code",
      "metadata": {
        "tags": [],
        "id": "lYvASJCxtAQN",
        "colab_type": "code",
        "colab": {
          "base_uri": "https://localhost:8080/",
          "height": 221
        },
        "outputId": "725e5b78-bc03-4cda-a27c-c3e5826ec5f0"
      },
      "source": [
        "print(confusion_matrix(y_test,y_pred_LR))\n",
        "print(classification_report(y_test,y_pred_LR))\n",
        "print('F1 Score (Logistic Regression Model): {0}'.format(f1_score(y_test,y_pred_LR)))"
      ],
      "execution_count": 28,
      "outputs": [
        {
          "output_type": "stream",
          "text": [
            "[[45558   629]\n",
            " [ 2333  1480]]\n",
            "              precision    recall  f1-score   support\n",
            "\n",
            "           0       0.95      0.99      0.97     46187\n",
            "           1       0.70      0.39      0.50      3813\n",
            "\n",
            "    accuracy                           0.94     50000\n",
            "   macro avg       0.83      0.69      0.73     50000\n",
            "weighted avg       0.93      0.94      0.93     50000\n",
            "\n",
            "F1 Score (Logistic Regression Model): 0.4998311381290105\n"
          ],
          "name": "stdout"
        }
      ]
    },
    {
      "cell_type": "code",
      "metadata": {
        "id": "QaC_liVrtAQQ",
        "colab_type": "code",
        "colab": {}
      },
      "source": [
        "predictions = classifier.predict(X_eval)"
      ],
      "execution_count": 29,
      "outputs": []
    },
    {
      "cell_type": "code",
      "metadata": {
        "id": "_fSifl9ftAQS",
        "colab_type": "code",
        "colab": {}
      },
      "source": [
        "res = pd.DataFrame(predictions) #preditcions are nothing but the final predictions of your model on input features of your new unseen test data\n",
        "res.columns = ['prediction']\n",
        "#res = res.reset_index()\n",
        "res.to_csv(\"prediction_results_HP.csv\")"
      ],
      "execution_count": null,
      "outputs": []
    },
    {
      "cell_type": "code",
      "metadata": {
        "id": "zHQJturEtAQT",
        "colab_type": "code",
        "colab": {
          "base_uri": "https://localhost:8080/",
          "height": 119
        },
        "outputId": "315ee79e-d78c-4ace-dc78-55e4c769b502"
      },
      "source": [
        "from sklearn.tree import DecisionTreeClassifier\n",
        "classifier = DecisionTreeClassifier(criterion = \"entropy\", random_state = 0)\n",
        "classifier.fit(X_train, y_train)"
      ],
      "execution_count": 30,
      "outputs": [
        {
          "output_type": "execute_result",
          "data": {
            "text/plain": [
              "DecisionTreeClassifier(ccp_alpha=0.0, class_weight=None, criterion='entropy',\n",
              "                       max_depth=None, max_features=None, max_leaf_nodes=None,\n",
              "                       min_impurity_decrease=0.0, min_impurity_split=None,\n",
              "                       min_samples_leaf=1, min_samples_split=2,\n",
              "                       min_weight_fraction_leaf=0.0, presort='deprecated',\n",
              "                       random_state=0, splitter='best')"
            ]
          },
          "metadata": {
            "tags": []
          },
          "execution_count": 30
        }
      ]
    },
    {
      "cell_type": "code",
      "metadata": {
        "id": "mhIx8KWMtAQV",
        "colab_type": "code",
        "colab": {}
      },
      "source": [
        "y_pred  = classifier.predict(X_test)"
      ],
      "execution_count": 31,
      "outputs": []
    },
    {
      "cell_type": "code",
      "metadata": {
        "tags": [],
        "id": "psdIT8qItAQX",
        "colab_type": "code",
        "colab": {
          "base_uri": "https://localhost:8080/",
          "height": 34
        },
        "outputId": "5658e77d-bf19-4ce1-8b65-1a867a2390b3"
      },
      "source": [
        "print('Train Accuracy: {0}'.format(classifier.score(X_train,y_train)))"
      ],
      "execution_count": 32,
      "outputs": [
        {
          "output_type": "stream",
          "text": [
            "Train Accuracy: 0.99128\n"
          ],
          "name": "stdout"
        }
      ]
    },
    {
      "cell_type": "code",
      "metadata": {
        "tags": [],
        "id": "amT8g3rntAQZ",
        "colab_type": "code",
        "colab": {
          "base_uri": "https://localhost:8080/",
          "height": 221
        },
        "outputId": "bd296da2-198b-4a34-935e-7e3b85a45cb1"
      },
      "source": [
        "print(confusion_matrix(y_test,y_pred))\n",
        "print(classification_report(y_test,y_pred))\n",
        "print('F1 Score (Desicion Tree): {0}'.format(f1_score(y_test,y_pred)))"
      ],
      "execution_count": 33,
      "outputs": [
        {
          "output_type": "stream",
          "text": [
            "[[44405  1782]\n",
            " [ 2065  1748]]\n",
            "              precision    recall  f1-score   support\n",
            "\n",
            "           0       0.96      0.96      0.96     46187\n",
            "           1       0.50      0.46      0.48      3813\n",
            "\n",
            "    accuracy                           0.92     50000\n",
            "   macro avg       0.73      0.71      0.72     50000\n",
            "weighted avg       0.92      0.92      0.92     50000\n",
            "\n",
            "F1 Score (Desicion Tree): 0.4760996867765219\n"
          ],
          "name": "stdout"
        }
      ]
    },
    {
      "cell_type": "code",
      "metadata": {
        "id": "Z9ZXSDx3tAQa",
        "colab_type": "code",
        "colab": {
          "base_uri": "https://localhost:8080/",
          "height": 136
        },
        "outputId": "8d029689-b570-4482-ed7e-15a301c7cb75"
      },
      "source": [
        "import xgboost as xgb\n",
        "from sklearn.model_selection import StratifiedKFold\n",
        "from sklearn.model_selection import GridSearchCV\n",
        "\n",
        "model = xgb.XGBClassifier()\n",
        "learning_rate = [0.0001, 0.001, 0.01, 0.1, 0.2, 0.3]\n",
        "param_grid = dict(learning_rate=learning_rate)\n",
        "kfold = StratifiedKFold(n_splits=10, shuffle=True, random_state=7)\n",
        "grid_search = GridSearchCV(model, param_grid, scoring=\"neg_log_loss\", n_jobs=-1, cv=kfold)\n",
        "grid_result = grid_search.fit(X_train, y_train)\n",
        "\n",
        "# summarize results\n",
        "print(\"Best: %f using %s\" % (grid_result.best_score_, grid_result.best_params_))\n",
        "means = grid_result.cv_results_['mean_test_score']\n",
        "stds = grid_result.cv_results_['std_test_score']\n",
        "params = grid_result.cv_results_['params']\n",
        "for mean, stdev, param in zip(means, stds, params):\n",
        "\tprint(\"%f (%f) with: %r\" % (mean, stdev, param))"
      ],
      "execution_count": 34,
      "outputs": [
        {
          "output_type": "stream",
          "text": [
            "Best: -0.136087 using {'learning_rate': 0.3}\n",
            "-0.685383 (0.000009) with: {'learning_rate': 0.0001}\n",
            "-0.621814 (0.000084) with: {'learning_rate': 0.001}\n",
            "-0.311896 (0.000741) with: {'learning_rate': 0.01}\n",
            "-0.142789 (0.001999) with: {'learning_rate': 0.1}\n",
            "-0.137820 (0.002075) with: {'learning_rate': 0.2}\n",
            "-0.136087 (0.002135) with: {'learning_rate': 0.3}\n"
          ],
          "name": "stdout"
        }
      ]
    },
    {
      "cell_type": "code",
      "metadata": {
        "id": "QDfjdInxtAQc",
        "colab_type": "code",
        "colab": {}
      },
      "source": [
        "print('Train Accuracy: {0}'.format(classifier.score(X_train,y_train)))"
      ],
      "execution_count": null,
      "outputs": []
    },
    {
      "cell_type": "code",
      "metadata": {
        "id": "Oo1cRvMttAQd",
        "colab_type": "code",
        "colab": {}
      },
      "source": [
        "print(confusion_matrix(y_test,y_pred))\n",
        "print(classification_report(y_test,y_pred))\n",
        "print('F1 Score (Desicion Tree): {0}'.format(f1_score(y_test,y_pred)))"
      ],
      "execution_count": null,
      "outputs": []
    }
  ]
}